{
 "cells": [
  {
   "cell_type": "markdown",
   "metadata": {},
   "source": [
    "Merge .root files which was created for each sample to a final histograms.root"
   ]
  },
  {
   "cell_type": "code",
   "execution_count": null,
   "metadata": {
    "tags": []
   },
   "outputs": [],
   "source": [
    "import uproot\n",
    "import json\n",
    "import numpy as np\n",
    "import matplotlib.pyplot as plt\n"
   ]
  },
  {
   "cell_type": "code",
   "execution_count": null,
   "metadata": {
    "tags": []
   },
   "outputs": [],
   "source": [
    "processes = []\n",
    "def extract_samples_from_json(json_file):\n",
    "    output_files = []\n",
    "    with open(json_file, 'r') as fd:\n",
    "        data = json.load(fd)\n",
    "        for sample, conditions in data.items():            \n",
    "            for condition in conditions:\n",
    "                processes.append(sample)\n",
    "                sample_name = f\"histograms/histograms_{sample}__{condition}.root\"\n",
    "                output_files.append(sample_name)\n",
    "    return output_files\n",
    "\n",
    "json_file = \"nanoaod_inputs.json\"\n",
    "# LIST_OF_FILES_PER_SAMPLE is a list of 9 files containing histograms per sample\n",
    "LIST_OF_FILES_PER_SAMPLE = extract_samples_from_json(json_file)\n",
    "print(LIST_OF_FILES_PER_SAMPLE)\n",
    "print(processes)\n",
    "with uproot.recreate(\"histograms.root\") as f_out:\n",
    "    for h_file in LIST_OF_FILES_PER_SAMPLE:\n",
    "        with uproot.open(h_file) as f_per_sample:\n",
    "            for key in f_per_sample.keys(cycle=False):\n",
    "                value = f_per_sample[key]\n",
    "                f_out[key] = value"
   ]
  },
  {
   "cell_type": "markdown",
   "metadata": {},
   "source": [
    "Visualise the created histogram"
   ]
  },
  {
   "cell_type": "code",
   "execution_count": null,
   "metadata": {
    "tags": []
   },
   "outputs": [],
   "source": [
    "def plot_stacked_histograms(file_path, tag):\n",
    "    file = uproot.open(file_path)\n",
    "    #processes = process_list\n",
    "    hist_dict = {}\n",
    "    for process in processes:\n",
    "        key = f\"{tag}_{process};1\" \n",
    "        hist = file[key]\n",
    "        # Storing values and bin edges\n",
    "        hist_dict[process] = hist.values(), hist.axes[0].edges()\n",
    "    # Initialized an array of zeros that has the same shape as the first histogram's values.\n",
    "    stacked_values = np.zeros_like(hist_dict[processes[0]][0])\n",
    "    plt.figure()\n",
    "    # Plot the stacked histograms in reverse order to stack them correctly\n",
    "    for process in processes[::-1]: \n",
    "        values, bin_edges = hist_dict[process]\n",
    "        plt.hist(bin_edges[:-1], bins=bin_edges, weights=values + stacked_values, \n",
    "                 histtype='stepfilled', alpha=0.6, label=process)\n",
    "        stacked_values += values \n",
    "    plt.legend(frameon=False)\n",
    "    if tag == \"4j2b\":\n",
    "        plt.title(\"$\\geq$ 4 jets, $\\geq$ 2 b-tags\")\n",
    "    elif tag == \"4j1b\":\n",
    "        plt.title(\"$\\geq$ 4 jets, $\\geq$ 1 b-tags\")\n",
    "    plt.xlabel(\"$m_{bjj}$ [GeV]\")\n",
    "    plt.ylabel(\"Events\")\n",
    "    plt.show()\n",
    "file_path = \"histograms.root\"\n",
    "plot_stacked_histograms(file_path, \"4j2b\")\n",
    "plot_stacked_histograms(file_path, \"4j1b\")"
   ]
  },
  {
   "cell_type": "code",
   "execution_count": null,
   "metadata": {},
   "outputs": [],
   "source": []
  }
 ],
 "metadata": {
  "kernelspec": {
   "display_name": "Python 3 (ipykernel)",
   "language": "python",
   "name": "python3"
  },
  "language_info": {
   "codemirror_mode": {
    "name": "ipython",
    "version": 3
   },
   "file_extension": ".py",
   "mimetype": "text/x-python",
   "name": "python",
   "nbconvert_exporter": "python",
   "pygments_lexer": "ipython3",
   "version": "3.9.18"
  }
 },
 "nbformat": 4,
 "nbformat_minor": 4
}
